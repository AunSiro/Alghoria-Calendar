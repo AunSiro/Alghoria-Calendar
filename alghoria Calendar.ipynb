{
 "cells": [
  {
   "cell_type": "code",
   "execution_count": 1,
   "id": "3ea248f0",
   "metadata": {},
   "outputs": [],
   "source": [
    "import numpy as np"
   ]
  },
  {
   "cell_type": "code",
   "execution_count": 2,
   "id": "f4ea70e3",
   "metadata": {},
   "outputs": [],
   "source": [
    "from IPython.display import display, Markdown"
   ]
  },
  {
   "cell_type": "code",
   "execution_count": 3,
   "id": "160982c9",
   "metadata": {},
   "outputs": [],
   "source": [
    "def add_event(name, timeline = \"a\", y = 0, m = 0, w = 0, d = 0, h = 0):\n",
    "    time = y*365 + m*30 + w*7 + d + h/24\n",
    "    if timeline == \"a\":\n",
    "        time_a = time\n",
    "        time_e = time / 82\n",
    "    elif timeline == \"e\":\n",
    "        time_a = time * 82\n",
    "        time_e = time\n",
    "    return {\n",
    "        \"name\" : name,\n",
    "        \"t_a\" : time_a,\n",
    "        \"t_e\" : time_e\n",
    "    }"
   ]
  },
  {
   "cell_type": "code",
   "execution_count": 4,
   "id": "01f10658",
   "metadata": {},
   "outputs": [],
   "source": [
    "def days_to_info(d):\n",
    "    y = int(d//365)\n",
    "    d -= y*365\n",
    "    m = int(d//30)\n",
    "    d -= m*30\n",
    "    w = int(d//7)\n",
    "    d -= w*7\n",
    "    h = (d%1)*24\n",
    "    d = int(d)\n",
    "    h = int(h)\n",
    "    return y,m,w,d,h"
   ]
  },
  {
   "cell_type": "code",
   "execution_count": 5,
   "id": "9be3b97f",
   "metadata": {},
   "outputs": [],
   "source": [
    "def info_to_msg(y,m,w,d,h):\n",
    "    msg = ' '\n",
    "    var_n = (y,m,w,d,h)\n",
    "    var_msg = ('año', 'mes', 'semana', 'día', 'hora')\n",
    "    n_data = np.count_nonzero(var_n)\n",
    "    if n_data == 0:\n",
    "        return \"Hace menos de una hora\"\n",
    "    last = True\n",
    "    for ii in range(-1,-6,-1):\n",
    "        if var_n[ii] > 0:\n",
    "            data = f\" {var_n[ii]} {var_msg[ii]}\"\n",
    "            if var_n[ii]>1:\n",
    "                if ii == -4:\n",
    "                    data = data + 'es'\n",
    "                else:\n",
    "                    data = data + 's'\n",
    "            if last:\n",
    "                if n_data > 1:\n",
    "                    data = ' y' + data\n",
    "                last = False\n",
    "            else:\n",
    "                if msg[1] != y:\n",
    "                    data = ',' + data\n",
    "            msg = data + msg\n",
    "    if msg[0] == ',':\n",
    "        msg = msg[1:]\n",
    "    msg = \"Hace\" + msg\n",
    "    return msg"
   ]
  },
  {
   "cell_type": "code",
   "execution_count": 6,
   "id": "522538bd",
   "metadata": {},
   "outputs": [],
   "source": [
    "def days_to_msg(d):\n",
    "    y,m,w,d,h = days_to_info(d)\n",
    "    \n",
    "    if y>0:\n",
    "        w, d, h = 0, 0, 0\n",
    "    if m>0:\n",
    "        h = 0\n",
    "    if w>1:\n",
    "        h = 0\n",
    "        \n",
    "    msg = info_to_msg(y,m,w,d,h)\n",
    "    return msg"
   ]
  },
  {
   "cell_type": "code",
   "execution_count": 8,
   "id": "05be96de",
   "metadata": {},
   "outputs": [],
   "source": [
    "def sort_f(event):\n",
    "    return event['t_a']"
   ]
  },
  {
   "cell_type": "code",
   "execution_count": 9,
   "id": "c1bf96bd",
   "metadata": {},
   "outputs": [],
   "source": [
    "def event_to_mark(event):\n",
    "    line = f\"| {days_to_msg(event['t_a'])} | {days_to_msg(event['t_e'])} | {event['name']} |\"\n",
    "    return line\n",
    "    \n",
    "def list_to_mark(event_list):\n",
    "    first_line = \"| Tiempo Alghoria | Tiempo Eberron | Evento |\"\n",
    "    second_line = \"| --- | --- | :--- |\"\n",
    "    msg = first_line + \"\\n\" + second_line\n",
    "    for event in event_list:\n",
    "        msg = msg + \"\\n\" + event_to_mark(event)\n",
    "    \n",
    "    return msg"
   ]
  },
  {
   "cell_type": "code",
   "execution_count": 10,
   "id": "a840339e",
   "metadata": {},
   "outputs": [],
   "source": [
    "event_list = []\n",
    "event_list.append(add_event('Creación de Alghoria', timeline = \"a\", y = 120))\n",
    "event_list.append(add_event('Ratigan comienza a actuar', timeline = \"a\", y = 16))\n",
    "event_list.append(add_event('Símbolos de PPl empiezan a aparecer', timeline = \"a\", y = 10))\n",
    "event_list.append(add_event('Apogeo y caída de la secta', timeline = \"a\", y = 4))\n",
    "event_list.append(add_event('Averiguamos que los nietos de MD están secuestrados', timeline = \"e\", w = 4))\n",
    "event_list.append(add_event('Encontramos a los nietos con Árbustor', timeline = \"e\", w = 1, d =1))\n",
    "event_list.append(add_event('Llegada de Hugo Boss', timeline = \"a\", y = 25))\n",
    "event_list.append(add_event('Estabilización de la población', timeline = \"a\", y = 60))\n",
    "event_list.append(add_event('Creación del sistema de Carros', timeline = \"a\", y = 110))\n",
    "event_list.append(add_event('Creación de las Dungeons', timeline = \"a\", y = 40))\n",
    "event_list.append(add_event('Rescate PBL, máscara PPL', timeline = \"e\", m = 3))\n",
    "event_list.append(add_event('José y Manolo ven al hombre rata en el puesto del norte', timeline = \"e\", w = 1))\n",
    "event_list.append(add_event('Llegada de Deborah', timeline = \"a\", w = 1, d = 2))\n",
    "event_list.append(add_event('Segunda llegada de Melareon', timeline = \"a\", w = 1, d = 5))\n",
    "event_list.append(add_event('Llegada de Ratigan', timeline = \"e\", m = 2, w = 2))\n",
    "event_list.append(add_event('Primera llegada de Melareon', timeline = \"a\", y = 15))\n",
    "event_list.append(add_event('Nuestra llegada', timeline = \"a\", d = 2))\n",
    "#event_list.append(add_event('Creación de Alghoria', timeline = \"a\", y = 0, m = 0, w = 0, d = 0, h = 0))"
   ]
  },
  {
   "cell_type": "code",
   "execution_count": 11,
   "id": "59b47035",
   "metadata": {},
   "outputs": [],
   "source": [
    "event_list.sort(key=sort_f, reverse=True)"
   ]
  },
  {
   "cell_type": "code",
   "execution_count": 12,
   "id": "1be66ed4",
   "metadata": {},
   "outputs": [
    {
     "data": {
      "text/markdown": [
       "| Tiempo Alghoria | Tiempo Eberron | Evento |\n",
       "| --- | --- | :--- |\n",
       "| Hace 120 años  | Hace 1 año y 5 meses  | Creación de Alghoria |\n",
       "| Hace 110 años  | Hace 1 año y 4 meses  | Creación del sistema de Carros |\n",
       "| Hace 60 años  | Hace 8 meses, 3 semanas y 6 días  | Estabilización de la población |\n",
       "| Hace 40 años  | Hace 5 meses y 4 semanas  | Creación de las Dungeons |\n",
       "| Hace 25 años  | Hace 3 meses y 3 semanas  | Llegada de Hugo Boss |\n",
       "| Hace 20 años y 2 meses  | Hace 3 meses  | Rescate PBL, máscara PPL |\n",
       "| Hace 16 años y 7 meses  | Hace 2 meses y 2 semanas  | Llegada de Ratigan |\n",
       "| Hace 16 años  | Hace 2 meses, 1 semana y 4 días  | Ratigan comienza a actuar |\n",
       "| Hace 15 años  | Hace 2 meses y 6 días  | Primera llegada de Melareon |\n",
       "| Hace 10 años  | Hace 1 mes y 2 semanas  | Símbolos de PPl empiezan a aparecer |\n",
       "| Hace 6 años y 3 meses  | Hace 4 semanas  | Averiguamos que los nietos de MD están secuestrados |\n",
       "| Hace 4 años  | Hace 2 semanas y 3 días  | Apogeo y caída de la secta |\n",
       "| Hace 1 año y 9 meses  | Hace 1 semana y 1 día  | Encontramos a los nietos con Árbustor |\n",
       "| Hace 1 año y 6 meses  | Hace 1 semana  | José y Manolo ven al hombre rata en el puesto del norte |\n",
       "| Hace 1 semana y 5 días  | Hace 3 horas  | Segunda llegada de Melareon |\n",
       "| Hace 1 semana y 2 días  | Hace 2 horas  | Llegada de Deborah |\n",
       "| Hace 2 días  | Hace menos de una hora | Nuestra llegada |"
      ],
      "text/plain": [
       "<IPython.core.display.Markdown object>"
      ]
     },
     "metadata": {},
     "output_type": "display_data"
    }
   ],
   "source": [
    "display(Markdown(list_to_mark(event_list)))"
   ]
  },
  {
   "cell_type": "code",
   "execution_count": null,
   "id": "e31acb82",
   "metadata": {},
   "outputs": [],
   "source": []
  },
  {
   "cell_type": "code",
   "execution_count": null,
   "id": "7423f2ce",
   "metadata": {},
   "outputs": [],
   "source": []
  }
 ],
 "metadata": {
  "kernelspec": {
   "display_name": "Python 3 (ipykernel)",
   "language": "python",
   "name": "python3"
  },
  "language_info": {
   "codemirror_mode": {
    "name": "ipython",
    "version": 3
   },
   "file_extension": ".py",
   "mimetype": "text/x-python",
   "name": "python",
   "nbconvert_exporter": "python",
   "pygments_lexer": "ipython3",
   "version": "3.7.11"
  }
 },
 "nbformat": 4,
 "nbformat_minor": 5
}
